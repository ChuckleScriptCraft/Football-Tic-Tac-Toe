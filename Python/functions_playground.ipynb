{
 "cells": [
  {
   "cell_type": "markdown",
   "metadata": {},
   "source": [
    "# How does the code perform outside of the function, does it work called from functions.py"
   ]
  },
  {
   "cell_type": "code",
   "execution_count": 87,
   "metadata": {},
   "outputs": [],
   "source": [
    "# Packages\n",
    "import requests\n",
    "from bs4 import BeautifulSoup"
   ]
  },
  {
   "cell_type": "markdown",
   "metadata": {},
   "source": [
    "## Input your player's name"
   ]
  },
  {
   "cell_type": "code",
   "execution_count": null,
   "metadata": {},
   "outputs": [],
   "source": [
    "player_name = \"Zlatan Ibrahimovic\""
   ]
  },
  {
   "cell_type": "markdown",
   "metadata": {},
   "source": [
    "## Chunk running same process as functions.py function"
   ]
  },
  {
   "cell_type": "code",
   "execution_count": 145,
   "metadata": {},
   "outputs": [],
   "source": [
    "\n",
    "url = f\"https://fbref.com/en/search/search.fcgi?search={player_name.replace(' ', '+')}\"\n",
    "\n",
    "# Send a GET request to the URL\n",
    "response = requests.get(url)\n",
    "soup = BeautifulSoup(response.content, 'html.parser')\n",
    "\n",
    "specific_element = soup.find('div', {'id': 'div_stats_misc_dom_lg'})\n",
    "tables = specific_element.find_all('table')\n",
    "\n",
    "squad = []\n",
    "\n",
    "for table in tables:\n",
    "    # Find all rows within the table\n",
    "    rows = table.find_all('tr')\n",
    "\n",
    "    # Iterate over each row\n",
    "    for row in rows:\n",
    "        # Find all columns within the row\n",
    "        cols = row.find_all(['th', 'td'])\n",
    "        squad.append(cols[2].get_text(strip=True))\n",
    "        \n",
    "# Find the index of the first blank element\n",
    "index_of_blank = squad.index('') if '' in squad else len(original_list)\n",
    "\n",
    "# Slice the list up to the index of the first blank element\n",
    "modified_list = set(squad[2:index_of_blank])\n",
    "\n",
    "print(modified_list)  # Output: ['Data 1', 'Data 2']\n"
   ]
  },
  {
   "cell_type": "markdown",
   "metadata": {},
   "source": [
    "## Run function from functions.py"
   ]
  },
  {
   "cell_type": "code",
   "execution_count": 3,
   "metadata": {},
   "outputs": [
    {
     "name": "stdout",
     "output_type": "stream",
     "text": [
      "{'Cambridge Utd', 'Leeds United', 'Crystal Palace', 'Brentford', 'Reading', 'QPR', 'Yeovil Town', 'Aldershot Town', 'Southampton', 'Woking', 'Ipswich Town'}\n"
     ]
    }
   ],
   "source": [
    "%run functions.py\n",
    "result = get_player_clubs_fbref(\"Alex McCarthy\")\n",
    "print(result)"
   ]
  }
 ],
 "metadata": {
  "kernelspec": {
   "display_name": "Python 3",
   "language": "python",
   "name": "python3"
  },
  "language_info": {
   "codemirror_mode": {
    "name": "ipython",
    "version": 3
   },
   "file_extension": ".py",
   "mimetype": "text/x-python",
   "name": "python",
   "nbconvert_exporter": "python",
   "pygments_lexer": "ipython3",
   "version": "3.11.8"
  }
 },
 "nbformat": 4,
 "nbformat_minor": 2
}
